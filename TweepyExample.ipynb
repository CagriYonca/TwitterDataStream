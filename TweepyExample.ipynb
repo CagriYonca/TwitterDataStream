{
 "cells": [
  {
   "cell_type": "code",
   "execution_count": 1,
   "id": "5f9c6f45",
   "metadata": {},
   "outputs": [],
   "source": [
    "import tweepy\n",
    "\n",
    "from pymongo import MongoClient, ASCENDING, TEXT"
   ]
  },
  {
   "cell_type": "code",
   "execution_count": 2,
   "id": "a3d54ec9",
   "metadata": {},
   "outputs": [],
   "source": [
    "# Load Auth Info\n",
    "consumer_key = 'Slsu6CJ670KAgmy5oGPSW'\n",
    "consumer_secret = 'dCVF03jOccM38mfZ5i0zZ6m2W0dp1LnLtyQWrwfl7giH9p'\n",
    "access_token = '1934775019-65wy7npd7B5AReg67mAWAcVNYTNVTM068y0'\n",
    "access_secret = '42ojy6tqW8V7M5Ggp32luwMQnpL3j8nkaaRqmAor5'"
   ]
  },
  {
   "cell_type": "code",
   "execution_count": 3,
   "id": "44ae6305",
   "metadata": {},
   "outputs": [
    {
     "data": {
      "text/plain": [
       "'id_1'"
      ]
     },
     "execution_count": 3,
     "metadata": {},
     "output_type": "execute_result"
    }
   ],
   "source": [
    "# Connect to MongoDB Cluster\n",
    "mongodb_conn = MongoClient(\"mongodb+srv://<username>:<password>@cluster0.mveye.mongodb.net/myFirstDatabase?retryWrites=true&w=majority\")\n",
    "db = mongodb_conn.demo\n",
    "tweet_collection = db.tweet_collection\n",
    "tweet_collection.create_index([('id', ASCENDING)], unique=True)"
   ]
  },
  {
   "cell_type": "code",
   "execution_count": 4,
   "id": "830c0efc",
   "metadata": {},
   "outputs": [],
   "source": [
    "# Define Stream Listener Class\n",
    "class TweepyListener(tweepy.Stream):\n",
    "    def on_status(self, status):\n",
    "        print(status.id_str)\n",
    "        try:\n",
    "            tweet_collection.insert_one(status._json)\n",
    "        except:\n",
    "            pass\n",
    "    \n",
    "    def on_error(self, status_code):\n",
    "        if status_code == 420:\n",
    "            return False"
   ]
  },
  {
   "cell_type": "code",
   "execution_count": null,
   "id": "ec987715",
   "metadata": {},
   "outputs": [
    {
     "name": "stderr",
     "output_type": "stream",
     "text": [
      "Stream connection has errored or timed out\n",
      "Stream connection has errored or timed out\n",
      "Stream connection has errored or timed out\n",
      "Stream connection has errored or timed out\n",
      "Stream connection has errored or timed out\n",
      "Stream connection has errored or timed out\n",
      "Stream connection has errored or timed out\n",
      "Stream connection has errored or timed out\n",
      "Stream connection has errored or timed out\n",
      "Stream connection has errored or timed out\n",
      "Stream connection has errored or timed out\n",
      "Stream connection has errored or timed out\n",
      "Stream connection has errored or timed out\n",
      "Stream connection has errored or timed out\n",
      "Stream connection has errored or timed out\n",
      "Stream connection has errored or timed out\n"
     ]
    },
    {
     "name": "stdout",
     "output_type": "stream",
     "text": [
      "1483138164680187905\n",
      "1483141342821814276\n",
      "1483141473960927233\n",
      "1483141480583684105\n",
      "1483142306517684228\n",
      "1483142333071773700\n",
      "1483142350180433921\n",
      "1483142423622606850\n",
      "1483142477800525831\n",
      "1483142490714685446\n",
      "1483142525175185408\n",
      "1483142554015182848\n",
      "1483142716238270470\n",
      "1483142788480913411\n",
      "1483142796211109894\n",
      "1483142806847860747\n",
      "1483142826342895618\n",
      "1483142878285246471\n",
      "1483142911738982401\n",
      "1483142914733752323\n",
      "1483142969733623810\n",
      "1483142972115980288\n",
      "1483142978591989763\n",
      "1483143002596028425\n",
      "1483143010158321673\n",
      "1483143025429815297\n",
      "1483143044752891912\n",
      "1483143090365992961\n",
      "1483143127393349641\n",
      "1483143177162924036\n",
      "1483143192845467655\n",
      "1483143228626976771\n",
      "1483143243592253441\n",
      "1483143263100014596\n",
      "1483143267277541382\n",
      "1483143282611961860\n",
      "1483143340648550400\n",
      "1483143449469763586\n",
      "1483143556944510978\n",
      "1483143714516131851\n",
      "1483143755989458949\n",
      "1483144027717439491\n",
      "1483144067085217792\n",
      "1483144140003155980\n",
      "1483144445814059014\n",
      "1483145456620351493\n",
      "1483145877401350148\n",
      "1483146826215743495\n",
      "1483147050535604226\n",
      "1483148092044197899\n",
      "1483148773656338435\n",
      "1483149028640571393\n",
      "1483149111658434587\n",
      "1483149468845281280\n",
      "1483149608293392386\n",
      "1483149626148540422\n"
     ]
    },
    {
     "name": "stderr",
     "output_type": "stream",
     "text": [
      "Stream connection has errored or timed out\n"
     ]
    },
    {
     "name": "stdout",
     "output_type": "stream",
     "text": [
      "1483151039884939271\n",
      "1483151560758550528\n"
     ]
    },
    {
     "name": "stderr",
     "output_type": "stream",
     "text": [
      "Stream connection has errored or timed out\n"
     ]
    },
    {
     "name": "stdout",
     "output_type": "stream",
     "text": [
      "1483152425724878850\n",
      "1483152811193823232\n",
      "1483152899626582016\n",
      "1483153037602566147\n",
      "1483153715888594949\n",
      "1483156372564987909\n",
      "1483156659304288260\n",
      "1483157668994949122\n",
      "1483157699684671495\n",
      "1483158065499287560\n",
      "1483158127876915205\n",
      "1483158169589325824\n",
      "1483158231555977216\n",
      "1483158337445412864\n",
      "1483158389547061249\n",
      "1483158402561892352\n",
      "1483158431016136712\n",
      "1483158486460600322\n",
      "1483158497999081472\n",
      "1483158533172514819\n",
      "1483158543498944516\n",
      "1483158547735412737\n",
      "1483158581771919368\n",
      "1483158600424042500\n",
      "1483158710465839108\n",
      "1483158725372305413\n",
      "1483158807098408960\n",
      "1483158942087798788\n",
      "1483159004536840198\n",
      "1483159026582147076\n",
      "1483159168743731200\n",
      "1483159282581483525\n",
      "1483159644323389446\n",
      "1483159711834951684\n",
      "1483159950746689540\n",
      "1483160072104546304\n",
      "1483160245992136707\n",
      "1483160266896560128\n",
      "1483160554600607745\n",
      "1483160582815686665\n",
      "1483160737661042695\n",
      "1483160795097845767\n",
      "1483163580526694407\n",
      "1483163729151803399\n",
      "1483163899776188416\n",
      "1483163981917433857\n",
      "1483164005661356035\n",
      "1483164555224043520\n",
      "1483164666444591109\n",
      "1483164901988315145\n",
      "1483165388460503046\n",
      "1483166008265383938\n",
      "1483166587167424513\n",
      "1483166799361454087\n",
      "1483168272749154306\n",
      "1483168727621373955\n",
      "1483168736643321861\n",
      "1483168808605036544\n",
      "1483169278002188288\n",
      "1483169609616404480\n",
      "1483169815720349697\n",
      "1483169851938164750\n"
     ]
    }
   ],
   "source": [
    "my_stream = TweepyListener(consumer_key, consumer_secret, access_token, access_secret)\n",
    "my_stream.filter(track=['zumrut'])"
   ]
  },
  {
   "cell_type": "code",
   "execution_count": null,
   "id": "0ef3e1fa",
   "metadata": {},
   "outputs": [],
   "source": [
    "# View the Collected Tweets\n",
    "print(tweet_collection.estimated_document_count())\n",
    "user_cursor = tweet_collection.distinct('user.id')\n",
    "print(len(user_cursor))"
   ]
  },
  {
   "cell_type": "code",
   "execution_count": null,
   "id": "bb8074ad",
   "metadata": {},
   "outputs": [],
   "source": [
    "tweet_collection.create_index([('text', TEXT)], name='text_index', default_language='english')"
   ]
  },
  {
   "cell_type": "code",
   "execution_count": null,
   "id": "c5eaa74b",
   "metadata": {},
   "outputs": [],
   "source": [
    "tweet_cursor = tweet_collection.find({'$text': {'$search': 'covid'}})"
   ]
  },
  {
   "cell_type": "code",
   "execution_count": null,
   "id": "a2dfb6bd",
   "metadata": {},
   "outputs": [],
   "source": []
  },
  {
   "cell_type": "code",
   "execution_count": null,
   "id": "3ee6974d",
   "metadata": {},
   "outputs": [],
   "source": [
    "for document in tweet_cursor:\n",
    "    try:\n",
    "        print('-----')\n",
    "        print('Username:', document['user']['name'])\n",
    "        print('Tweet:', document['text'])\n",
    "    except:\n",
    "        print('**error in encoding')\n",
    "        pass"
   ]
  },
  {
   "cell_type": "code",
   "execution_count": null,
   "id": "8ecc1606",
   "metadata": {},
   "outputs": [],
   "source": []
  },
  {
   "cell_type": "code",
   "execution_count": null,
   "id": "41a79ba2",
   "metadata": {},
   "outputs": [],
   "source": []
  },
  {
   "cell_type": "code",
   "execution_count": null,
   "id": "2f6a5549",
   "metadata": {},
   "outputs": [],
   "source": [
    "# Use Pandas to Display Tweets\n",
    "tweet_df = pd.DataFrame(list(tweet_cursor))\n",
    "tweet_df"
   ]
  },
  {
   "cell_type": "code",
   "execution_count": null,
   "id": "2e7b3ef7",
   "metadata": {},
   "outputs": [],
   "source": []
  },
  {
   "cell_type": "code",
   "execution_count": null,
   "id": "f90d8ca8",
   "metadata": {},
   "outputs": [],
   "source": []
  },
  {
   "cell_type": "code",
   "execution_count": null,
   "id": "70d8de5e",
   "metadata": {},
   "outputs": [],
   "source": []
  },
  {
   "cell_type": "code",
   "execution_count": null,
   "id": "96725737",
   "metadata": {},
   "outputs": [],
   "source": []
  },
  {
   "cell_type": "code",
   "execution_count": null,
   "id": "717ca612",
   "metadata": {},
   "outputs": [],
   "source": []
  },
  {
   "cell_type": "code",
   "execution_count": null,
   "id": "dfbdb713",
   "metadata": {},
   "outputs": [],
   "source": []
  }
 ],
 "metadata": {
  "kernelspec": {
   "display_name": "Python 3.8.12 64-bit ('3.8.12': pyenv)",
   "language": "python",
   "name": "python3812jvsc74a57bd042f333679377116e7bc405c22248f96991d8fb4c23037e152a92ca1c064de8c0"
  },
  "language_info": {
   "codemirror_mode": {
    "name": "ipython",
    "version": 3
   },
   "file_extension": ".py",
   "mimetype": "text/x-python",
   "name": "python",
   "nbconvert_exporter": "python",
   "pygments_lexer": "ipython3",
   "version": "3.8.12"
  }
 },
 "nbformat": 4,
 "nbformat_minor": 5
}
